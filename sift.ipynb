{
 "cells": [
  {
   "cell_type": "code",
   "execution_count": 14,
   "metadata": {},
   "outputs": [],
   "source": [
    "import math"
   ]
  },
  {
   "cell_type": "code",
   "execution_count": 15,
   "metadata": {},
   "outputs": [],
   "source": [
    "# Helper function to generate a 2D Gaussian kernel\n",
    "def generate_gaussian_kernel(size, sigma):\n",
    "    kernel = [[0] * size for _ in range(size)]\n",
    "    center = size // 2\n",
    "    total = 0\n",
    "    for x in range(size):\n",
    "        for y in range(size):\n",
    "            diff = ((x - center) ** 2 + (y - center) ** 2) / (2 * sigma * sigma)\n",
    "            kernel[x][y] = math.exp(-diff) / (2 * math.pi * sigma * sigma)\n",
    "            total += kernel[x][y]\n",
    "    \n",
    "    # Normalize the kernel\n",
    "    for x in range(size):\n",
    "        for y in range(size):\n",
    "            kernel[x][y] /= total\n",
    "    \n",
    "    return kernel"
   ]
  },
  {
   "cell_type": "code",
   "execution_count": 16,
   "metadata": {},
   "outputs": [],
   "source": [
    "# 1. Gaussian Blur\n",
    "def gaussian_blur(image, sigma):\n",
    "    size = int(6 * sigma + 1)  # kernel size (3*sigma on both sides)\n",
    "    if size % 2 == 0:\n",
    "        size += 1  # make sure size is odd\n",
    "    kernel = generate_gaussian_kernel(size, sigma)\n",
    "    height = len(image)\n",
    "    width = len(image[0])\n",
    "    \n",
    "    blurred_image = [[0] * width for _ in range(height)]\n",
    "    \n",
    "    # Convolution\n",
    "    offset = size // 2\n",
    "    for i in range(offset, height - offset):\n",
    "        for j in range(offset, width - offset):\n",
    "            total = 0\n",
    "            for kx in range(-offset, offset + 1):\n",
    "                for ky in range(-offset, offset + 1):\n",
    "                    total += kernel[kx + offset][ky + offset] * image[i + kx][j + ky]\n",
    "            blurred_image[i][j] = total\n",
    "    \n",
    "    return blurred_image"
   ]
  },
  {
   "cell_type": "code",
   "execution_count": 17,
   "metadata": {},
   "outputs": [],
   "source": [
    "\n",
    "# 2. Bilinear Interpolation for Upsampling\n",
    "def bilinear_interpolation_upsample(image, scale_factor=2):\n",
    "    original_height = len(image)\n",
    "    original_width = len(image[0])\n",
    "    \n",
    "    new_height = int(original_height * scale_factor)\n",
    "    new_width = int(original_width * scale_factor)\n",
    "    \n",
    "    upsampled_image = [[0] * new_width for _ in range(new_height)]\n",
    "    \n",
    "    for y in range(new_height):\n",
    "        for x in range(new_width):\n",
    "            # Map the new pixel to the original pixel coordinates\n",
    "            orig_y = y / scale_factor\n",
    "            orig_x = x / scale_factor\n",
    "            \n",
    "            # Get the surrounding pixels\n",
    "            y0 = int(orig_y)\n",
    "            x0 = int(orig_x)\n",
    "            y1 = min(y0 + 1, original_height - 1)\n",
    "            x1 = min(x0 + 1, original_width - 1)\n",
    "            \n",
    "            # Calculate interpolation weights\n",
    "            dy = orig_y - y0\n",
    "            dx = orig_x - x0\n",
    "            \n",
    "            # Perform bilinear interpolation\n",
    "            upsampled_image[y][x] = (1 - dy) * (1 - dx) * image[y0][x0] + \\\n",
    "                                    dy * (1 - dx) * image[y1][x0] + \\\n",
    "                                    (1 - dy) * dx * image[y0][x1] + \\\n",
    "                                    dy * dx * image[y1][x1]\n",
    "    \n",
    "    return upsampled_image"
   ]
  },
  {
   "cell_type": "code",
   "execution_count": 18,
   "metadata": {},
   "outputs": [],
   "source": [
    "# 3. Difference of Gaussians (DoG)\n",
    "def difference_of_gaussians(image, sigma1, sigma2):\n",
    "    blur1 = gaussian_blur(image, sigma1)\n",
    "    blur2 = gaussian_blur(image, sigma2)\n",
    "    \n",
    "    height = len(image)\n",
    "    width = len(image[0])\n",
    "    \n",
    "    dog = [[0] * width for _ in range(height)]\n",
    "    for i in range(height):\n",
    "        for j in range(width):\n",
    "            dog[i][j] = blur2[i][j] - blur1[i][j]\n",
    "    \n",
    "    return dog\n"
   ]
  },
  {
   "cell_type": "code",
   "execution_count": 19,
   "metadata": {},
   "outputs": [],
   "source": [
    "# 4. Non-Maximum Suppression\n",
    "def non_max_suppression(dog, threshold):\n",
    "    height = len(dog)\n",
    "    width = len(dog[0])\n",
    "    \n",
    "    keypoints = []\n",
    "    for y in range(1, height - 1):\n",
    "        for x in range(1, width - 1):\n",
    "            # Check if the point is a local maximum/minimum in a 3x3 neighborhood\n",
    "            region = [dog[y + dy][x + dx] for dx in range(-1, 2) for dy in range(-1, 2)]\n",
    "            max_value = max(region)\n",
    "            min_value = min(region)\n",
    "            \n",
    "            if dog[y][x] == max_value and max_value > threshold:\n",
    "                keypoints.append((x, y))\n",
    "            elif dog[y][x] == min_value and min_value < -threshold:\n",
    "                keypoints.append((x, y))\n",
    "    \n",
    "    return keypoints"
   ]
  },
  {
   "cell_type": "code",
   "execution_count": 20,
   "metadata": {},
   "outputs": [],
   "source": [
    "# 5. Gradient Calculation for Descriptors\n",
    "def compute_gradients(image):\n",
    "    height = len(image)\n",
    "    width = len(image[0])\n",
    "    \n",
    "    grad_x = [[0] * width for _ in range(height)]\n",
    "    grad_y = [[0] * width for _ in range(height)]\n",
    "    \n",
    "    for y in range(1, height - 1):\n",
    "        for x in range(1, width - 1):\n",
    "            grad_x[y][x] = image[y][x + 1] - image[y][x - 1]\n",
    "            grad_y[y][x] = image[y + 1][x] - image[y - 1][x]\n",
    "    \n",
    "    return grad_x, grad_y\n"
   ]
  },
  {
   "cell_type": "code",
   "execution_count": 21,
   "metadata": {},
   "outputs": [],
   "source": [
    "# Calculate magnitudes and orientations for each keypoint\n",
    "def calculate_magnitude_orientation(grad_x, grad_y):\n",
    "    height = len(grad_x)\n",
    "    width = len(grad_x[0])\n",
    "    \n",
    "    magnitude = [[0] * width for _ in range(height)]\n",
    "    orientation = [[0] * width for _ in range(height)]\n",
    "    \n",
    "    for y in range(height):\n",
    "        for x in range(width):\n",
    "            magnitude[y][x] = math.sqrt(grad_x[y][x] ** 2 + grad_y[y][x] ** 2)\n",
    "            orientation[y][x] = math.degrees(math.atan2(grad_y[y][x], grad_x[y][x]))\n",
    "    \n",
    "    return magnitude, orientation\n",
    "\n"
   ]
  },
  {
   "cell_type": "code",
   "execution_count": 22,
   "metadata": {},
   "outputs": [],
   "source": [
    "# Descriptor Calculation\n",
    "def compute_sift_descriptor(image, keypoints, patch_size=16, num_bins=8):\n",
    "    grad_x, grad_y = compute_gradients(image)\n",
    "    magnitude, orientation = calculate_magnitude_orientation(grad_x, grad_y)\n",
    "    \n",
    "    descriptors = []\n",
    "    \n",
    "    for (x, y) in keypoints:\n",
    "        hist = [0] * num_bins\n",
    "        for dy in range(-patch_size // 2, patch_size // 2):\n",
    "            for dx in range(-patch_size // 2, patch_size // 2):\n",
    "                new_x, new_y = x + dx, y + dy\n",
    "                if 0 <= new_x < len(image[0]) and 0 <= new_y < len(image):\n",
    "                    bin_index = int((orientation[new_y][new_x] + 180) / (360 / num_bins)) % num_bins\n",
    "                    hist[bin_index] += magnitude[new_y][new_x]\n",
    "        \n",
    "        # Normalize histogram\n",
    "        norm = math.sqrt(sum([h ** 2 for h in hist]))\n",
    "        if norm != 0:\n",
    "            hist = [h / norm for h in hist]\n",
    "        \n",
    "        descriptors.append(hist)\n",
    "    \n",
    "    return descriptors\n",
    "\n"
   ]
  },
  {
   "cell_type": "code",
   "execution_count": 23,
   "metadata": {},
   "outputs": [
    {
     "name": "stdout",
     "output_type": "stream",
     "text": [
      "Detected 0 keypoints.\n",
      "Descriptors: []\n"
     ]
    }
   ],
   "source": [
    "# Main SIFT pipeline from scratch\n",
    "def sift_pipeline(image, sigma1=1.6, sigma2=3.0, scale_factor=2, threshold=0.03):\n",
    "    # 1. Gaussian Blurring and DoG\n",
    "    dog = difference_of_gaussians(image, sigma1, sigma2)\n",
    "    \n",
    "    # 2. Upsample the image (optional)\n",
    "    upsampled_image = bilinear_interpolation_upsample(image, scale_factor)\n",
    "    \n",
    "    # 3. Non-Maximum Suppression to get keypoints\n",
    "    keypoints = non_max_suppression(dog, threshold)\n",
    "    \n",
    "    # 4. Compute descriptors\n",
    "    descriptors = compute_sift_descriptor(upsampled_image, keypoints)\n",
    "    \n",
    "    return keypoints, descriptors\n",
    "\n",
    "# Example usage\n",
    "image = [[255] * 10 for _ in range(10)]  # Simple 10x10 image\n",
    "keypoints, descriptors = sift_pipeline(image)\n",
    "print(f\"Detected {len(keypoints)} keypoints.\")\n",
    "print(\"Descriptors:\", descriptors)"
   ]
  }
 ],
 "metadata": {
  "kernelspec": {
   "display_name": "Python 3",
   "language": "python",
   "name": "python3"
  },
  "language_info": {
   "codemirror_mode": {
    "name": "ipython",
    "version": 3
   },
   "file_extension": ".py",
   "mimetype": "text/x-python",
   "name": "python",
   "nbconvert_exporter": "python",
   "pygments_lexer": "ipython3",
   "version": "3.12.7"
  }
 },
 "nbformat": 4,
 "nbformat_minor": 2
}
