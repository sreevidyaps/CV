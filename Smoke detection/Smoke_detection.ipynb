{
 "cells": [
  {
   "cell_type": "code",
   "execution_count": 1,
   "metadata": {},
   "outputs": [],
   "source": [
    "import cv2\n",
    "cap =cv2.VideoCapture(0) #0 is index of camera\n",
    "while True : #infinite loop for video capture\n",
    "    ret,frame= cap.read()\n",
    "    if not ret:\n",
    "        print(\"Error: Failed to capture frame from camera\")\n",
    "        break\n",
    "    cv2.imshow(\"Webcam\", frame)\n",
    "    if cv2.waitKey(1) & 0xFF == ord('q'):\n",
    "        break \n",
    "cap.release()\n",
    "cv2.destroyAllWindows()"
   ]
  },
  {
   "cell_type": "code",
   "execution_count": 3,
   "metadata": {},
   "outputs": [],
   "source": [
    "def play_video(video_path):\n",
    "    cap =cv2.VideoCapture(video_path)\n",
    "    if not cap.isOpened():\n",
    "        print(\"Error: could not open video file\")\n",
    "        return\n",
    "    while True:\n",
    "        ret, frame = cap.read()\n",
    "        if not ret:\n",
    "            break\n",
    "            cv2.imshow(\"Video\",frame)\n",
    "            if cv2.waitKey(25) & 0xFF == ord('q'):\n",
    "                break \n",
    "cap.release()\n",
    "cv2.destroyAllWindows()\n",
    "video_path = \"\""
   ]
  }
 ],
 "metadata": {
  "kernelspec": {
   "display_name": "Python 3",
   "language": "python",
   "name": "python3"
  },
  "language_info": {
   "codemirror_mode": {
    "name": "ipython",
    "version": 3
   },
   "file_extension": ".py",
   "mimetype": "text/x-python",
   "name": "python",
   "nbconvert_exporter": "python",
   "pygments_lexer": "ipython3",
   "version": "3.12.7"
  }
 },
 "nbformat": 4,
 "nbformat_minor": 2
}
