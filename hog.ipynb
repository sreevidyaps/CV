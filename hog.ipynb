{
 "cells": [
  {
   "cell_type": "code",
   "execution_count": 13,
   "metadata": {},
   "outputs": [],
   "source": [
    "import numpy as np"
   ]
  },
  {
   "cell_type": "code",
   "execution_count": 88,
   "metadata": {},
   "outputs": [],
   "source": [
    "import cv2\n",
    "image= cv2.imread(r'C:\\Users\\AMZ PC\\OneDrive\\Desktop\\CV\\istockphoto-1443562748-612x612.jpg')\n",
    "\n",
    "# Display the image in a window\n",
    "cv2.imshow(\"Image\", image)\n",
    "\n",
    "# Wait for a key press indefinitely or for a specific amount of time\n",
    "cv2.waitKey(0)  # 0 means wait indefinitely\n",
    "\n",
    "# Close the image window\n",
    "cv2.destroyAllWindows()"
   ]
  },
  {
   "cell_type": "code",
   "execution_count": 65,
   "metadata": {},
   "outputs": [
    {
     "data": {
      "text/plain": [
       "(531, 612, 3)"
      ]
     },
     "execution_count": 65,
     "metadata": {},
     "output_type": "execute_result"
    }
   ],
   "source": [
    "image.shape"
   ]
  },
  {
   "cell_type": "code",
   "execution_count": 70,
   "metadata": {},
   "outputs": [],
   "source": [
    "bg_img = cv2.cvtColor(image, cv2.COLOR_BGR2GRAY)\n"
   ]
  },
  {
   "cell_type": "code",
   "execution_count": 71,
   "metadata": {},
   "outputs": [],
   "source": [
    "img = cv2.resize(bg_img, (64, 128))\n",
    "cv2.imshow(\"Image\", image)\n",
    "\n",
    "# Wait for a key press indefinitely or for a specific amount of time\n",
    "cv2.waitKey(0)  # 0 means wait indefinitely\n",
    "\n",
    "# Close the image window\n",
    "cv2.destroyAllWindows()"
   ]
  },
  {
   "cell_type": "code",
   "execution_count": 76,
   "metadata": {},
   "outputs": [
    {
     "name": "stdout",
     "output_type": "stream",
     "text": [
      "[[255 255 255 ... 255 255 255]\n",
      " [255 255 255 ... 255 255 255]\n",
      " [255 255 255 ... 255 255 255]\n",
      " ...\n",
      " [255 255 255 ... 255 255 255]\n",
      " [255 255 255 ... 255 255 255]\n",
      " [255 255 255 ... 255 255 255]]\n"
     ]
    }
   ],
   "source": [
    "# def get_patches(image, patch_size=(3, 3)):\n",
    "    \n",
    "#     patches = []\n",
    "#     patch_height, patch_width = patch_size\n",
    "#     for i in range(0, image.shape[0] - patch_height + 1, patch_height):\n",
    "#         for j in range(0, image.shape[1] - patch_width + 1, patch_width):\n",
    "#             patch = image[i:i + patch_height, j:j + patch_width]\n",
    "#             patches.append(patch)\n",
    "#     return patches\n",
    "# get_patches(img)\n",
    "print(img)"
   ]
  },
  {
   "cell_type": "code",
   "execution_count": 90,
   "metadata": {},
   "outputs": [],
   "source": [
    "# Gx=None\n",
    "# Gy=None\n",
    "def calc_pixel_gradients(img):\n",
    "    # global Gx, Gy\n",
    "    \n",
    "    Gx = np.zeros_like(img)\n",
    "    Gy = np.zeros_like(img)\n",
    "    \n",
    "    for i in range(1, img.shape[0] - 1):\n",
    "        for j in range(1, img.shape[1] - 1):\n",
    "            Gx[i, j] = img[i, j + 1] - img[i, j - 1]\n",
    "            Gy[i, j] = img[i + 1, j] - img[i - 1, j]\n",
    "    \n",
    "    return Gx, Gy\n"
   ]
  },
  {
   "cell_type": "code",
   "execution_count": 96,
   "metadata": {},
   "outputs": [
    {
     "name": "stdout",
     "output_type": "stream",
     "text": [
      "[[0 0 0 ... 0 0 0]\n",
      " [0 0 0 ... 0 0 0]\n",
      " [0 0 0 ... 0 0 0]\n",
      " ...\n",
      " [0 0 0 ... 0 0 0]\n",
      " [0 0 0 ... 0 0 0]\n",
      " [0 0 0 ... 0 0 0]]\n"
     ]
    },
    {
     "name": "stderr",
     "output_type": "stream",
     "text": [
      "C:\\Users\\AMZ PC\\AppData\\Local\\Temp\\ipykernel_9392\\299825726.py:12: RuntimeWarning: overflow encountered in scalar subtract\n",
      "  Gy[i, j] = img[i + 1, j] - img[i - 1, j]\n",
      "C:\\Users\\AMZ PC\\AppData\\Local\\Temp\\ipykernel_9392\\299825726.py:11: RuntimeWarning: overflow encountered in scalar subtract\n",
      "  Gx[i, j] = img[i, j + 1] - img[i, j - 1]\n"
     ]
    }
   ],
   "source": [
    "grad_x,grad_y=calc_pixel_gradients(img)\n"
   ]
  },
  {
   "cell_type": "code",
   "execution_count": 98,
   "metadata": {},
   "outputs": [],
   "source": [
    "def magnitude(image, grad_x, grad_y):\n",
    "    global magnitude\n",
    "    magnitude = np.sqrt(grad_x**2 + grad_y**2) #using pythagoras\n",
    "    return magnitude\n",
    "def direction(image, grad_x, grad_y):\n",
    "    global orientation\n",
    "    orientation = np.arctan2(grad_y, grad_x) * (180 / np.pi)  # Convert to degrees\n",
    "    return direction\n"
   ]
  },
  {
   "cell_type": "code",
   "execution_count": 99,
   "metadata": {},
   "outputs": [],
   "source": [
    "mag=magnitude(img, grad_x, grad_y)\n",
    "dir=direction(img, grad_x, grad_y)"
   ]
  },
  {
   "cell_type": "code",
   "execution_count": 100,
   "metadata": {},
   "outputs": [
    {
     "ename": "TypeError",
     "evalue": "'numpy.ndarray' object is not callable",
     "output_type": "error",
     "traceback": [
      "\u001b[1;31m---------------------------------------------------------------------------\u001b[0m",
      "\u001b[1;31mTypeError\u001b[0m                                 Traceback (most recent call last)",
      "Cell \u001b[1;32mIn[100], line 1\u001b[0m\n\u001b[1;32m----> 1\u001b[0m magnitude(image,grad_x, grad_y)\n\u001b[0;32m      2\u001b[0m direction(image,grad_x, grad_y)\n\u001b[0;32m      3\u001b[0m \u001b[38;5;66;03m# Define parameters for HOG\u001b[39;00m\n",
      "\u001b[1;31mTypeError\u001b[0m: 'numpy.ndarray' object is not callable"
     ]
    }
   ],
   "source": [
    "magnitude(image,grad_x, grad_y)\n",
    "direction(image,grad_x, grad_y)\n",
    "# Define parameters for HOG\n",
    "cell_size = 8  # 8x8 pixels per cell\n",
    "bin_size = 20  # 20-degree bins\n",
    "num_bins = 9   # 9 bins (0-20, 20-40, ..., 160-180)\n",
    "\n",
    "# Calculate HOG for each cell\n",
    "hog_features = []\n",
    "for i in range(0, image.shape[0], cell_size):\n",
    "    for j in range(0, image.shape[1], cell_size):\n",
    "        cell_magnitude = magnitude[i:i+cell_size, j:j+cell_size]\n",
    "        cell_orientation = orientation[i:i+cell_size, j:j+cell_size]\n",
    "        \n",
    "        # Create histogram for the current cell\n",
    "        hist = np.zeros(num_bins)\n",
    "        for x in range(cell_size):\n",
    "            for y in range(cell_size):\n",
    "                # Determine the bin for each pixel's orientation\n",
    "                bin_index = int(cell_orientation[x, y] // bin_size)\n",
    "                hist[bin_index] += cell_magnitude[x, y]\n",
    "        \n",
    "        # Append the histogram to the HOG features\n",
    "        hog_features.append(hist)\n",
    "\n",
    "# Convert the list of histograms to a single feature vector\n",
    "hog_features = np.concatenate(hog_features)\n",
    "\n",
    "# Print the HOG feature vector\n",
    "print(\"HOG feature vector:\", hog_features)\n",
    "\n",
    "# Plotting the histogram for one cell\n",
    "import matplotlib.pyplot as plt\n",
    "\n",
    "# Select the histogram of the first cell for demonstration\n",
    "plt.bar(range(num_bins), hog_features[:num_bins])\n",
    "plt.xlabel(\"Orientation Bins\")\n",
    "plt.ylabel(\"Magnitude Sum\")\n",
    "plt.title(\"Histogram of Oriented Gradients for the First Cell\")\n",
    "plt.show()"
   ]
  }
 ],
 "metadata": {
  "kernelspec": {
   "display_name": "base",
   "language": "python",
   "name": "python3"
  },
  "language_info": {
   "codemirror_mode": {
    "name": "ipython",
    "version": 3
   },
   "file_extension": ".py",
   "mimetype": "text/x-python",
   "name": "python",
   "nbconvert_exporter": "python",
   "pygments_lexer": "ipython3",
   "version": "3.11.7"
  }
 },
 "nbformat": 4,
 "nbformat_minor": 2
}
